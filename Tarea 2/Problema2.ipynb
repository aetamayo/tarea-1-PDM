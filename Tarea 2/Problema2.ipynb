{
 "cells": [
  {
   "cell_type": "code",
   "execution_count": null,
   "metadata": {},
   "outputs": [],
   "source": [
    "!pip install pyspark"
   ]
  },
  {
   "cell_type": "code",
   "execution_count": null,
   "metadata": {},
   "outputs": [],
   "source": [
    "import pyspark\n",
    "from pyspark import SparkContext\n",
    "\n",
    "sc = SparkContext()\n",
    "\n",
    "# edges data\n",
    "edges = [(1, 2, 10), (2, 3, 3), (2, 4, 24), (3, 2, 1)]\n",
    "edges_rdd = sc.parallelize(edges)\n",
    "\n",
    "# inicializar el nodo de inicio con costo 0\n",
    "source_node = 1\n",
    "vertices = edges_rdd.flatMap(lambda x: x[:2]).distinct()\n",
    "initial_costs = vertices.map(lambda v: (v, 0) if v == source_node else (v, float('inf')))\n",
    "\n",
    "# converte la lista de bordes en un RDD\n",
    "edges_rdd = edges_rdd.map(lambda x: (x[0], (x[1], x[2])))\n",
    "\n",
    "# bucle hasta que los costos no cambien\n",
    "while True:\n",
    "    # Paso 2: enviar costos acumulados a vecinos\n",
    "    new_costs = initial_costs.join(edges_rdd).map(lambda x: (x[1][1][0], x[1][0] + x[1][1][1]))\n",
    "\n",
    "    # Paso 3: reducir al costo mínimo\n",
    "    new_costs = new_costs.reduceByKey(min)\n",
    "\n",
    "    # verificación de convergencia\n",
    "    if new_costs.join(initial_costs).map(lambda x: abs(x[1][0] - x[1][1]) < 0.01).reduce(lambda a, b: a and b):\n",
    "        break\n",
    "    else:\n",
    "        initial_costs = new_costs\n",
    "\n",
    "# imprime los resultados\n",
    "print(initial_costs.collect())"
   ]
  },
  {
   "cell_type": "code",
   "execution_count": null,
   "metadata": {},
   "outputs": [],
   "source": [
    "# Definimos la función para actualizar las distancias mínimas\n",
    "def actualizar_distancia(distancias, vertice, peso):\n",
    "    if vertice not in distancias or peso < distancias[vertice]:\n",
    "        distancias[vertice] = peso\n",
    "\n",
    "# Lista de aristas\n",
    "edges = [(1, 2, 10), (2, 3, 3), (2, 4, 24), (3, 2, 1)]\n",
    "\n",
    "# Creamos un diccionario para almacenar las distancias mínimas\n",
    "distancias = {1: 0}\n",
    "\n",
    "# Creamos un diccionario para almacenar los nodos visitados\n",
    "visitados = {}\n",
    "\n",
    "# Iteramos hasta que hayamos visitado todos los nodos\n",
    "while len(visitados) < len(distancias):\n",
    "    # Encontramos el nodo no visitado con la distancia mínima\n",
    "    nodo_actual = min(distancias, key=lambda x: distancias[x] if x not in visitados else float('inf'))\n",
    "    visitados[nodo_actual] = distancias[nodo_actual]\n",
    "\n",
    "    # Actualizamos las distancias mínimas de los vecinos del nodo actual\n",
    "    for u, v, peso in edges:\n",
    "        if u == nodo_actual:\n",
    "            actualizar_distancia(distancias, v, distancias[u] + peso)\n",
    "\n",
    "# Imprimimos los resultados\n",
    "for nodo in distancias:\n",
    "    distancia_minima = distancias[nodo]\n",
    "    print(f\"Distancia mínima desde el nodo 1 hasta el nodo {nodo}: {distancia_minima}\")"
   ]
  }
 ],
 "metadata": {
  "kernelspec": {
   "display_name": "Python 3",
   "language": "python",
   "name": "python3"
  },
  "language_info": {
   "name": "python",
   "version": "3.9.4"
  },
  "orig_nbformat": 4
 },
 "nbformat": 4,
 "nbformat_minor": 2
}
