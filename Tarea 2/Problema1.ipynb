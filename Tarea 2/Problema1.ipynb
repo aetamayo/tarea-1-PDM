{
  "cells": [
    {
      "cell_type": "code",
      "execution_count": null,
      "metadata": {
        "colab": {
          "base_uri": "https://localhost:8080/"
        },
        "id": "RLomvIEtItmX",
        "outputId": "aa72f1b4-58d7-4dbd-8aee-e141a512d4d5"
      },
      "outputs": [
        {
          "name": "stdout",
          "output_type": "stream",
          "text": [
            "Collecting pyspark\n",
            "  Downloading pyspark-3.4.1.tar.gz (310.8 MB)\n",
            "\u001b[2K     \u001b[90m━━━━━━━━━━━━━━━━━━━━━━━━━━━━━━━━━━━━━━━\u001b[0m \u001b[32m310.8/310.8 MB\u001b[0m \u001b[31m3.6 MB/s\u001b[0m eta \u001b[36m0:00:00\u001b[0m\n",
            "\u001b[?25h  Preparing metadata (setup.py) ... \u001b[?25l\u001b[?25hdone\n",
            "Requirement already satisfied: py4j==0.10.9.7 in /usr/local/lib/python3.10/dist-packages (from pyspark) (0.10.9.7)\n",
            "Building wheels for collected packages: pyspark\n",
            "  Building wheel for pyspark (setup.py) ... \u001b[?25l\u001b[?25hdone\n",
            "  Created wheel for pyspark: filename=pyspark-3.4.1-py2.py3-none-any.whl size=311285398 sha256=bcc68df04c55ce9b924b1178caf8fdf50cef8a3d76f96f1f994d50e4d7f154e8\n",
            "  Stored in directory: /root/.cache/pip/wheels/0d/77/a3/ff2f74cc9ab41f8f594dabf0579c2a7c6de920d584206e0834\n",
            "Successfully built pyspark\n",
            "Installing collected packages: pyspark\n",
            "Successfully installed pyspark-3.4.1\n"
          ]
        }
      ],
      "source": [
        "!pip install pyspark"
      ]
    },
    {
      "cell_type": "code",
      "execution_count": null,
      "metadata": {
        "id": "gbwS-v5NVEGa"
      },
      "outputs": [],
      "source": [
        "from pyspark import SparkContext as sc\n",
        "def initialize_page_ranks(nodes):\n",
        "    \"\"\"\n",
        "    Prepara un RDD con cada nodo y su Page Rank inicial.\n",
        "    \"\"\"\n",
        "    total_nodes = len(nodes)\n",
        "    initial_rank = 1 / total_nodes\n",
        "    return sc.parallelize([(node, initial_rank) for node in nodes])\n",
        "\n",
        "def prepare_messages(links, ranks):\n",
        "    \"\"\"\n",
        "    Prepara el mensaje que cada nodo va a enviar.\n",
        "    \"\"\"\n",
        "    return links.join(ranks).flatMap(lambda url_urls_rank: [(dest, url_urls_rank[1][1] / len(url_urls_rank[1][0])) for dest in url_urls_rank[1][0]])\n",
        "\n",
        "def exchange_messages(links, ranks):\n",
        "    \"\"\"\n",
        "    Realiza el intercambio de mensajes entre nodos.\n",
        "    Envía los mensajes a los nodos correspondientes y realiza el merge de los mensajes recibidos.\n",
        "    Retorna un RDD que indica el mensaje final recibido para cada nodo.\n",
        "    \"\"\"\n",
        "    contribs = prepare_messages(links, ranks)\n",
        "    return contribs.reduceByKey(lambda x, y: x + y)\n",
        "\n",
        "def update_page_ranks(messages, damping_factor):\n",
        "    \"\"\"\n",
        "    Actualiza el valor de Page Rank para cada nodo considerando el damping factor.\n",
        "    \"\"\"\n",
        "    return messages.mapValues(lambda rank: rank * damping_factor + (1 - damping_factor))\n",
        "\n",
        "def page_rank(nodes, edges, num_iterations=10, damping_factor=0.85):\n",
        "    \"\"\"\n",
        "    Calcula el Page Rank para los nodos y aristas dados.\n",
        "    Itera los pasos correspondientes por un número máximo de iteraciones\n",
        "    o hasta que la diferencia entre dos iteraciones del valor de Page Rank sea mínima.\n",
        "    \"\"\"\n",
        "    links = sc.parallelize(edges).groupByKey().mapValues(list)\n",
        "    ranks = initialize_page_ranks(nodes)\n",
        "    previous_ranks = None\n",
        "\n",
        "    for i in range(num_iterations):\n",
        "        messages = exchange_messages(links, ranks)\n",
        "        ranks = update_page_ranks(messages, damping_factor)\n",
        "\n",
        "        # Verificar la convergencia\n",
        "        if previous_ranks is not None:\n",
        "            diff = ranks.join(previous_ranks).mapValues(lambda x: abs(x[0] - x[1]))\n",
        "            max_diff = diff.values().max()\n",
        "            if max_diff < 0.0001:  # Umbral de convergencia\n",
        "                break\n",
        "\n",
        "        previous_ranks = ranks\n",
        "\n",
        "    return ranks\n",
        "\n",
        "# Supongamos que tenemos los siguientes nodos y aristas\n",
        "nodes = [1, 2, 3, 4]\n",
        "edges = [(1, 2), (2, 3), (2, 4), (3, 2)]\n",
        "\n",
        "# Calcular el Page Rank\n",
        "result = page_rank(nodes, edges)\n",
        "print(result.collect())\n"
      ]
    }
  ],
  "metadata": {
    "colab": {
      "provenance": []
    },
    "kernelspec": {
      "display_name": "Python 3",
      "name": "python3"
    },
    "language_info": {
      "name": "python"
    }
  },
  "nbformat": 4,
  "nbformat_minor": 0
}
